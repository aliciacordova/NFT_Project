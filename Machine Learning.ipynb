{
 "cells": [
  {
   "cell_type": "code",
   "execution_count": 6,
   "id": "b8bf7fec",
   "metadata": {},
   "outputs": [],
   "source": [
    "#Import the libraries\n",
    "import tensorflow as tf\n",
    "from tensorflow import keras\n",
    "from keras.models import Sequential\n",
    "from keras.layers import Dense, Flatten, Conv2D, MaxPooling2D, Dropout\n",
    "from tensorflow.keras import layers\n",
    "from tensorflow.keras.utils import to_categorical\n",
    "import numpy as np\n",
    "import matplotlib.pyplot as plt\n",
    "plt.style.use('fivethirtyeight')"
   ]
  },
  {
   "cell_type": "code",
   "execution_count": null,
   "id": "becc055f",
   "metadata": {},
   "outputs": [],
   "source": [
    "# Load the data (esta es la data del video, tenemos que agregar aqui la de nosotros)\n",
    "#from keras.datasets import cifar10\n",
    "#(x_train, y_train), (x_test, y_test) = cifar10.load_data()"
   ]
  },
  {
   "cell_type": "code",
   "execution_count": null,
   "id": "8a187ebb",
   "metadata": {},
   "outputs": [],
   "source": [
    "# look at the data typer of the variables\n",
    "print(type(x_train))\n",
    "print(type(y_train))\n",
    "print(type(x_test))\n",
    "print(type(y_test))"
   ]
  },
  {
   "cell_type": "code",
   "execution_count": null,
   "id": "ca68c495",
   "metadata": {},
   "outputs": [],
   "source": [
    "# Get the shape of the arrays\n",
    "print('x_train shape:', x_train,shape)\n",
    "print('y_train shape:', y_train,shape)\n",
    "print('x_test shape:', x_test,shape)\n",
    "print('y_test shape:', y_test,shape)"
   ]
  },
  {
   "cell_type": "code",
   "execution_count": null,
   "id": "faccb32d",
   "metadata": {},
   "outputs": [],
   "source": [
    "#Take a look at the first image as an array\n",
    "index = 0\n",
    "x_train[index]"
   ]
  },
  {
   "cell_type": "code",
   "execution_count": null,
   "id": "493be020",
   "metadata": {},
   "outputs": [],
   "source": [
    "#Show the image as a picture\n",
    "img = plt.imshow(x_train[index])"
   ]
  },
  {
   "cell_type": "code",
   "execution_count": null,
   "id": "a2f8388b",
   "metadata": {},
   "outputs": [],
   "source": [
    "#Get the image label \n",
    "print('The image label is ', y_train[index])"
   ]
  },
  {
   "cell_type": "code",
   "execution_count": null,
   "id": "dd926e44",
   "metadata": {},
   "outputs": [],
   "source": [
    "# Get the image classification\n",
    "classification = ['Male', 'Female', 'Zombie'. 'Ape', 'Alien']\n",
    "#Print the image class\n",
    "print('The image class is: ', classification[y_train[index]][0])"
   ]
  },
  {
   "cell_type": "code",
   "execution_count": null,
   "id": "cba1d86d",
   "metadata": {},
   "outputs": [],
   "source": [
    "# Convert the labels into a set of 10 numbers to input into the neural network\n",
    "y_train_one_hot = to_categorical(y_train)\n",
    "y_test_one_hot = to_categorical(y_test)"
   ]
  },
  {
   "cell_type": "code",
   "execution_count": null,
   "id": "6497518e",
   "metadata": {},
   "outputs": [],
   "source": [
    "#print the new labels\n",
    "print(y_train_one_hot)"
   ]
  },
  {
   "cell_type": "code",
   "execution_count": null,
   "id": "9e0cca2d",
   "metadata": {},
   "outputs": [],
   "source": [
    "#print the new label of the image/picture above\n",
    "print ('The one hot label is: ',y_train_one_hot[index])"
   ]
  },
  {
   "cell_type": "code",
   "execution_count": null,
   "id": "7f7fecad",
   "metadata": {},
   "outputs": [],
   "source": [
    "#normalize the pixels to be values between 0 and 1\n",
    "x_train = x_train / 255\n",
    "x_test = x_test / 255"
   ]
  },
  {
   "cell_type": "code",
   "execution_count": null,
   "id": "16203c08",
   "metadata": {},
   "outputs": [],
   "source": [
    "x_train[index]"
   ]
  },
  {
   "cell_type": "code",
   "execution_count": null,
   "id": "b8092e85",
   "metadata": {},
   "outputs": [],
   "source": [
    "#create the models architecture\n",
    "model= Sequential()\n",
    "\n",
    "#Add the first layer\n",
    "model.add( Conv2D(32,(5,5), activation='relu', input_shape=(24,24,4)))\n",
    "\n",
    "#Add a pooling layer\n",
    "model.add(MaxPooling2D(pool_size = (2,2)))\n",
    "\n",
    "#Add another convolution layer\n",
    "model.add( Conv2D(32,(5,5), activation='relu'))\n",
    "\n",
    "#Add a pooling layer\n",
    "model.add(MaxPooling2D(pool_size = (2,2)))\n",
    "\n",
    "#Add a flattening layer\n",
    "model.add(Flatten())\n",
    "\n",
    "#Add a layer with 1000 neurons\n",
    "model.add(Dense(1000, activation='relu'))\n",
    "\n",
    "#Add a drop out layer\n",
    "model.add(Dropout(0.5))\n",
    "\n",
    "#Add a layer with 500 neurons\n",
    "model.add(Dense(500, activation='relu'))\n",
    "\n",
    "#Add a drop out layer\n",
    "model.add(Dropout(0.5))\n",
    "\n",
    "#Add a layer with 250 neurons\n",
    "model.add(Dense(250, activation='relu'))\n",
    "\n",
    "#Add a layer with 10 neurons\n",
    "model.add(Dense(10, activation='softmax'))\n"
   ]
  },
  {
   "cell_type": "code",
   "execution_count": null,
   "id": "a0d5e96a",
   "metadata": {},
   "outputs": [],
   "source": [
    "#Compile the model\n",
    "model.compile(loss='categorical_crossentropy',\n",
    "             optimizer = 'adam',\n",
    "             metrics = ['accuracy'])"
   ]
  },
  {
   "cell_type": "code",
   "execution_count": null,
   "id": "bd81c095",
   "metadata": {},
   "outputs": [],
   "source": [
    "#Train the model\n",
    "hist = model.fit(x_train, y_train_one_hot,\n",
    "                batch_size = 256, \n",
    "                epochs = 10, \n",
    "                validation_split = 0.2)"
   ]
  },
  {
   "cell_type": "code",
   "execution_count": null,
   "id": "3762ad32",
   "metadata": {},
   "outputs": [],
   "source": [
    "#Evaluate the model using the test data set\n",
    "model.evaluate(x_test, y_test_one_hot)[1]"
   ]
  },
  {
   "cell_type": "code",
   "execution_count": null,
   "id": "f53862c7",
   "metadata": {},
   "outputs": [],
   "source": [
    "#Visualize the models accuracy\n",
    "plt.plot(hist.history['accuracy'])\n",
    "plt.plot(hist.history['val_accuracy'])\n",
    "plt.title('Model Accuracy')\n",
    "plt.ylabel('Accuracy')\n",
    "plt.xlabel('Epoch')\n",
    "plt.legend(['Train', 'Val'], loc='upper left')\n",
    "plt.show()"
   ]
  },
  {
   "cell_type": "code",
   "execution_count": null,
   "id": "98f96405",
   "metadata": {},
   "outputs": [],
   "source": [
    "#Visualize the model loss\n",
    "plt.plot(hist.history['loss'])\n",
    "plt.plot(hist.history['val_loss'])\n",
    "plt.title('Model Loss')\n",
    "plt.ylabel('Loss')\n",
    "plt.xlabel('Epoch')\n",
    "plt.legend(['Train', 'Val'], loc='upper right')\n",
    "plt.show()"
   ]
  },
  {
   "cell_type": "code",
   "execution_count": null,
   "id": "29257b88",
   "metadata": {},
   "outputs": [],
   "source": [
    "#Test the model with an example\n",
    "\n",
    "# tenemos que subir una de las imagenes de crypto punks"
   ]
  },
  {
   "cell_type": "code",
   "execution_count": null,
   "id": "252af90d",
   "metadata": {},
   "outputs": [],
   "source": [
    "#show the image\n"
   ]
  },
  {
   "cell_type": "code",
   "execution_count": null,
   "id": "f11f2c5e",
   "metadata": {},
   "outputs": [],
   "source": [
    "#Get the models predictions\n",
    "predictions = model.predict(np.array([#images]))\n",
    "    \n",
    "#Show the predictions\n",
    "predictions"
   ]
  },
  {
   "cell_type": "code",
   "execution_count": null,
   "id": "b2cd0204",
   "metadata": {},
   "outputs": [],
   "source": [
    "#Sort the predictions from the least to the greastest\n",
    "list_index = [0,1,2,3,4] # o se coloca 'Male', 'Female', 'Zombie'. 'Ape', 'Alien'??? \n",
    "x = predictions\n",
    "\n",
    "for i in range(5):\n",
    "    for j in rang (10):\n",
    "        if x[0][list_index[i]] > x[0][list_index[j]]:\n",
    "            temp = list_index[i]\n",
    "            list_index[i] = list_index[j]\n",
    "            list_index[j] = temp\n",
    "            \n",
    "#Shoe the sorted labels in order\n",
    "print(list_index)"
   ]
  },
  {
   "cell_type": "code",
   "execution_count": null,
   "id": "25e666ea",
   "metadata": {},
   "outputs": [],
   "source": [
    "#Print the 5 predictions\n",
    "for i in range(5):\n",
    "    print(classification[list_index[i]], ':', round(predictions[0][list_index[i]]*100,2), '%')"
   ]
  },
  {
   "cell_type": "code",
   "execution_count": null,
   "id": "2fb5ed4c",
   "metadata": {},
   "outputs": [],
   "source": []
  },
  {
   "cell_type": "code",
   "execution_count": null,
   "id": "1e0948d7",
   "metadata": {},
   "outputs": [],
   "source": []
  }
 ],
 "metadata": {
  "kernelspec": {
   "display_name": "Python 3",
   "language": "python",
   "name": "python3"
  },
  "language_info": {
   "codemirror_mode": {
    "name": "ipython",
    "version": 3
   },
   "file_extension": ".py",
   "mimetype": "text/x-python",
   "name": "python",
   "nbconvert_exporter": "python",
   "pygments_lexer": "ipython3",
   "version": "3.8.8"
  }
 },
 "nbformat": 4,
 "nbformat_minor": 5
}
