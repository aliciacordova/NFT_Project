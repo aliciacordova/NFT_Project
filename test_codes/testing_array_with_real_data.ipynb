{
 "cells": [
  {
   "cell_type": "code",
   "execution_count": null,
   "id": "c9ac92e3",
   "metadata": {},
   "outputs": [],
   "source": [
    "#####################################################################\n",
    "## This code is used to test the use of a dictionary containing data\n",
    "## numpy arrays for the bitmaps, as an option to using either Pandas\n",
    "## or MongoDB.\n",
    "#####################################################################"
   ]
  },
  {
   "cell_type": "code",
   "execution_count": 1,
   "id": "9b3c6c90",
   "metadata": {},
   "outputs": [],
   "source": [
    "# Import dependencies\n",
    "import numpy as np\n",
    "import random\n",
    "\n",
    "# Import image handling dependencies\n",
    "from PIL import Image\n",
    "\n",
    "# Import image ploting dependencies\n",
    "import matplotlib.pyplot as plt\n"
   ]
  },
  {
   "cell_type": "code",
   "execution_count": 2,
   "id": "94fa131e",
   "metadata": {},
   "outputs": [],
   "source": [
    "# Create an empty dictionary to store the bitmap images\n",
    "bitmap_image_dict = {\"punk_id\":[],\n",
    "                     \"image_bitmap\":[]\n",
    "                     }"
   ]
  },
  {
   "cell_type": "code",
   "execution_count": 3,
   "id": "7d523e3c",
   "metadata": {},
   "outputs": [],
   "source": [
    "# Create an empty dictionary to store the machine learning data\n",
    "machine_learning_dict = {\"punk_id\":[],\n",
    "                        \"type_ML\":[],\n",
    "                        \"glasses_ML\":[],\n",
    "                        \"normalized_bitmap\":[]\n",
    "                        }"
   ]
  },
  {
   "cell_type": "code",
   "execution_count": 4,
   "id": "e3947a88",
   "metadata": {},
   "outputs": [],
   "source": [
    "# Loop through the ids and populate the two dictionaries\n",
    "for i in range(10000):\n",
    "    \n",
    "    punk_id = i\n",
    "    \n",
    "    # OJO EN ESTA SECCION\n",
    "    type_ML = random.randrange(0,2,1)\n",
    "    glasses_ML = random.randrange(0,1,1)\n",
    "    \n",
    "    # Read the image file for the punk_id\n",
    "    file_to_open = (\"../images/\"+str(i)+\".png\")\n",
    "    rgb_image = Image.open(file_to_open)\n",
    "    \n",
    "    # Convert the image to a bitmap array\n",
    "    rgb_bit_map = np.asarray(rgb_image)\n",
    "    \n",
    "    # Add the images to the bitmap image dictionary\n",
    "    bitmap_image_dict[\"punk_id\"] += [punk_id]\n",
    "    bitmap_image_dict[\"image_bitmap\"] += [rgb_bit_map]\n",
    "    \n",
    "    # Normalize the bitmap array for use by the Machine Learning model\n",
    "    norm_rgb_bit_map = rgb_bit_map / 255\n",
    "    \n",
    "    # Add the new data to the machine learning dictionary\n",
    "    machine_learning_dict[\"punk_id\"] += [punk_id]\n",
    "    machine_learning_dict[\"type_ML\"] += [type_ML]\n",
    "    machine_learning_dict[\"glasses_ML\"] += [glasses_ML]\n",
    "    machine_learning_dict[\"normalized_bitmap\"] += [norm_rgb_bit_map]"
   ]
  },
  {
   "cell_type": "code",
   "execution_count": 5,
   "id": "fb86df19",
   "metadata": {},
   "outputs": [
    {
     "name": "stdout",
     "output_type": "stream",
     "text": [
      "Data type of  punk_id  is:  <class 'int'>\n",
      "Data type of  image_bitmap  is:  <class 'numpy.ndarray'>\n"
     ]
    }
   ],
   "source": [
    "# Inspect the data types in the bitmap image dictionary\n",
    "\n",
    "# 1. Get a list of the dictionary keys\n",
    "keys = bitmap_image_dict.keys()\n",
    "\n",
    "# 2. For each key, inspect the first value in its corresponding\n",
    "#    list for its data type\n",
    "for key in keys:\n",
    "    print(\"Data type of \",key,\" is: \",type(bitmap_image_dict[key][0]))"
   ]
  },
  {
   "cell_type": "code",
   "execution_count": 6,
   "id": "26976fb7",
   "metadata": {},
   "outputs": [
    {
     "name": "stdout",
     "output_type": "stream",
     "text": [
      "Data type of  punk_id  is:  <class 'int'>\n",
      "Data type of  type_ML  is:  <class 'int'>\n",
      "Data type of  glasses_ML  is:  <class 'int'>\n",
      "Data type of  normalized_bitmap  is:  <class 'numpy.ndarray'>\n"
     ]
    }
   ],
   "source": [
    "# Inspect the data types in the machine learning dictionary\n",
    "\n",
    "# 1. Get a list of the dictionary keys\n",
    "keys = machine_learning_dict.keys()\n",
    "\n",
    "# 2. For each key, inspect the first value in its corresponding\n",
    "#    list for its data type\n",
    "for key in keys:\n",
    "    print(\"Data type of \",key,\" is: \",type(machine_learning_dict[key][0]))"
   ]
  },
  {
   "cell_type": "code",
   "execution_count": 7,
   "id": "90d30581",
   "metadata": {},
   "outputs": [
    {
     "name": "stdout",
     "output_type": "stream",
     "text": [
      "[[[0. 0. 0. 0.]\n",
      "  [0. 0. 0. 0.]\n",
      "  [0. 0. 0. 0.]\n",
      "  ...\n",
      "  [0. 0. 0. 0.]\n",
      "  [0. 0. 0. 0.]\n",
      "  [0. 0. 0. 0.]]\n",
      "\n",
      " [[0. 0. 0. 0.]\n",
      "  [0. 0. 0. 0.]\n",
      "  [0. 0. 0. 0.]\n",
      "  ...\n",
      "  [0. 0. 0. 0.]\n",
      "  [0. 0. 0. 0.]\n",
      "  [0. 0. 0. 0.]]\n",
      "\n",
      " [[0. 0. 0. 0.]\n",
      "  [0. 0. 0. 0.]\n",
      "  [0. 0. 0. 0.]\n",
      "  ...\n",
      "  [0. 0. 0. 0.]\n",
      "  [0. 0. 0. 0.]\n",
      "  [0. 0. 0. 0.]]\n",
      "\n",
      " ...\n",
      "\n",
      " [[0. 0. 0. 0.]\n",
      "  [0. 0. 0. 0.]\n",
      "  [0. 0. 0. 0.]\n",
      "  ...\n",
      "  [0. 0. 0. 0.]\n",
      "  [0. 0. 0. 0.]\n",
      "  [0. 0. 0. 0.]]\n",
      "\n",
      " [[0. 0. 0. 0.]\n",
      "  [0. 0. 0. 0.]\n",
      "  [0. 0. 0. 0.]\n",
      "  ...\n",
      "  [0. 0. 0. 0.]\n",
      "  [0. 0. 0. 0.]\n",
      "  [0. 0. 0. 0.]]\n",
      "\n",
      " [[0. 0. 0. 0.]\n",
      "  [0. 0. 0. 0.]\n",
      "  [0. 0. 0. 0.]\n",
      "  ...\n",
      "  [0. 0. 0. 0.]\n",
      "  [0. 0. 0. 0.]\n",
      "  [0. 0. 0. 0.]]]\n"
     ]
    }
   ],
   "source": [
    "# Set the normalized bitmap as training data\n",
    "X_train = np.array(machine_learning_dict[\"normalized_bitmap\"])\n",
    "\n",
    "# Inspect the first item in the training data\n",
    "print(X_train[0])"
   ]
  },
  {
   "cell_type": "code",
   "execution_count": 8,
   "id": "7ad8620d",
   "metadata": {},
   "outputs": [
    {
     "name": "stdout",
     "output_type": "stream",
     "text": [
      "0\n"
     ]
    }
   ],
   "source": [
    "# Set the hot-one encoded type as target training data\n",
    "y_train = np.array(machine_learning_dict[\"type_ML\"])\n",
    "\n",
    "# Inspect the first item in the target training data\n",
    "print(y_train[0])"
   ]
  },
  {
   "cell_type": "code",
   "execution_count": 9,
   "id": "67125ccf",
   "metadata": {},
   "outputs": [
    {
     "name": "stdout",
     "output_type": "stream",
     "text": [
      "<class 'numpy.ndarray'>\n",
      "<class 'numpy.ndarray'>\n"
     ]
    }
   ],
   "source": [
    "# Inspect the data types\n",
    "print(type(X_train))\n",
    "print(type(y_train))"
   ]
  },
  {
   "cell_type": "code",
   "execution_count": 10,
   "id": "1f013394",
   "metadata": {},
   "outputs": [
    {
     "name": "stdout",
     "output_type": "stream",
     "text": [
      "(10000, 24, 24, 4)\n",
      "(10000,)\n"
     ]
    }
   ],
   "source": [
    "# Inspect the shape of the data\n",
    "print(X_train.shape)\n",
    "print(y_train.shape)"
   ]
  },
  {
   "cell_type": "code",
   "execution_count": 11,
   "id": "81a92a22",
   "metadata": {},
   "outputs": [
    {
     "data": {
      "text/plain": [
       "array([[[0., 0., 0., 0.],\n",
       "        [0., 0., 0., 0.],\n",
       "        [0., 0., 0., 0.],\n",
       "        ...,\n",
       "        [0., 0., 0., 0.],\n",
       "        [0., 0., 0., 0.],\n",
       "        [0., 0., 0., 0.]],\n",
       "\n",
       "       [[0., 0., 0., 0.],\n",
       "        [0., 0., 0., 0.],\n",
       "        [0., 0., 0., 0.],\n",
       "        ...,\n",
       "        [0., 0., 0., 0.],\n",
       "        [0., 0., 0., 0.],\n",
       "        [0., 0., 0., 0.]],\n",
       "\n",
       "       [[0., 0., 0., 0.],\n",
       "        [0., 0., 0., 0.],\n",
       "        [0., 0., 0., 0.],\n",
       "        ...,\n",
       "        [0., 0., 0., 0.],\n",
       "        [0., 0., 0., 0.],\n",
       "        [0., 0., 0., 0.]],\n",
       "\n",
       "       ...,\n",
       "\n",
       "       [[0., 0., 0., 0.],\n",
       "        [0., 0., 0., 0.],\n",
       "        [0., 0., 0., 0.],\n",
       "        ...,\n",
       "        [0., 0., 0., 0.],\n",
       "        [0., 0., 0., 0.],\n",
       "        [0., 0., 0., 0.]],\n",
       "\n",
       "       [[0., 0., 0., 0.],\n",
       "        [0., 0., 0., 0.],\n",
       "        [0., 0., 0., 0.],\n",
       "        ...,\n",
       "        [0., 0., 0., 0.],\n",
       "        [0., 0., 0., 0.],\n",
       "        [0., 0., 0., 0.]],\n",
       "\n",
       "       [[0., 0., 0., 0.],\n",
       "        [0., 0., 0., 0.],\n",
       "        [0., 0., 0., 0.],\n",
       "        ...,\n",
       "        [0., 0., 0., 0.],\n",
       "        [0., 0., 0., 0.],\n",
       "        [0., 0., 0., 0.]]])"
      ]
     },
     "execution_count": 11,
     "metadata": {},
     "output_type": "execute_result"
    }
   ],
   "source": [
    "# Take a look at a random image as an array\n",
    "index = random.randrange(0,10000,1)\n",
    "X_train[index]"
   ]
  },
  {
   "cell_type": "code",
   "execution_count": 12,
   "id": "f2771985",
   "metadata": {},
   "outputs": [
    {
     "data": {
      "image/png": "[encoded data removed]",
      "text/plain": [
       "<Figure size 432x288 with 1 Axes>"
      ]
     },
     "metadata": {
      "needs_background": "light"
     },
     "output_type": "display_data"
    }
   ],
   "source": [
    "# Show the image as a picture\n",
    "img = plt.imshow(X_train[index])"
   ]
  },
  {
   "cell_type": "code",
   "execution_count": 17,
   "id": "48b679b1",
   "metadata": {},
   "outputs": [
    {
     "data": {
      "text/plain": [
       "array([[0.        , 0.        , 0.        , 0.        ],\n",
       "       [0.        , 0.        , 0.        , 0.        ],\n",
       "       [0.        , 0.        , 0.        , 0.        ],\n",
       "       [0.44313725, 0.04705882, 0.78039216, 1.        ],\n",
       "       [0.44313725, 0.04705882, 0.78039216, 1.        ],\n",
       "       [0.        , 0.        , 0.        , 1.        ],\n",
       "       [0.91764706, 0.85098039, 0.85098039, 1.        ],\n",
       "       [0.91764706, 0.85098039, 0.85098039, 1.        ],\n",
       "       [0.8627451 , 0.8745098 , 0.91764706, 1.        ],\n",
       "       [0.34901961, 0.39607843, 0.43921569, 1.        ],\n",
       "       [0.79215686, 0.78823529, 0.83137255, 1.        ],\n",
       "       [0.91764706, 0.85098039, 0.85098039, 1.        ],\n",
       "       [0.91764706, 0.85098039, 0.85098039, 1.        ],\n",
       "       [0.8627451 , 0.8745098 , 0.91764706, 1.        ],\n",
       "       [0.34901961, 0.39607843, 0.43921569, 1.        ],\n",
       "       [0.79215686, 0.78823529, 0.83137255, 1.        ],\n",
       "       [0.        , 0.        , 0.        , 1.        ],\n",
       "       [0.        , 0.        , 0.        , 0.        ],\n",
       "       [0.        , 0.        , 0.        , 0.        ],\n",
       "       [0.86666667, 0.86666667, 0.86666667, 0.50196078],\n",
       "       [0.        , 0.        , 0.        , 0.        ],\n",
       "       [0.        , 0.        , 0.        , 0.        ],\n",
       "       [0.        , 0.        , 0.        , 0.        ],\n",
       "       [0.        , 0.        , 0.        , 0.        ]])"
      ]
     },
     "execution_count": 17,
     "metadata": {},
     "output_type": "execute_result"
    }
   ],
   "source": [
    "# Inspect several bits to ensure the RGB data is normalized\n",
    "X_train[index][12]"
   ]
  }
 ],
 "metadata": {
  "kernelspec": {
   "display_name": "Python 3 (ipykernel)",
   "language": "python",
   "name": "python3"
  },
  "language_info": {
   "codemirror_mode": {
    "name": "ipython",
    "version": 3
   },
   "file_extension": ".py",
   "mimetype": "text/x-python",
   "name": "python",
   "nbconvert_exporter": "python",
   "pygments_lexer": "ipython3",
   "version": "3.8.9"
  }
 },
 "nbformat": 4,
 "nbformat_minor": 5
}
