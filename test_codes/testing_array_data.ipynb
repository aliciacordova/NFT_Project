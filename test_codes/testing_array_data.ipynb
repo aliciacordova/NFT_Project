{
 "cells": [
  {
   "cell_type": "code",
   "execution_count": 1,
   "id": "9b3c6c90",
   "metadata": {},
   "outputs": [],
   "source": [
    "import numpy as np"
   ]
  },
  {
   "cell_type": "code",
   "execution_count": 2,
   "id": "62bc7bc1",
   "metadata": {},
   "outputs": [],
   "source": [
    "# Create a dictionay containing lists\n",
    "machine_learning_dict = {\"punk_id\":[0,1,2,3],\n",
    "                        \"type_ML\":[0,1,0,2],\n",
    "                        \"glasses_ML\":[0,0,1,0],\n",
    "                        \"normalized_bitmap\":[np.array([[\"a0\",\"b0\"],\n",
    "                                              [\"c0\",\"d0\"]\n",
    "                                             ]),\n",
    "                                             np.array([[\"a1\",\"b1\"],\n",
    "                                              [\"c1\",\"d1\"]\n",
    "                                             ]),\n",
    "                                             np.array([[\"a2\",\"b2\"],\n",
    "                                              [\"c2\",\"d2\"]\n",
    "                                             ]),\n",
    "                                             np.array([[\"a3\",\"b3\"],\n",
    "                                              [\"c3\",\"d3\"]\n",
    "                                             ])\n",
    "                                            ],\n",
    "                        \"image_bitmap\":[[[\"A0\",\"B0\"],\n",
    "                                         [\"C0\",\"D0\"]\n",
    "                                        ],\n",
    "                                        [[\"A1\",\"B1\"],\n",
    "                                         [\"C1\",\"D1\"]\n",
    "                                        ],\n",
    "                                        [[\"A2\",\"B2\"],\n",
    "                                         [\"C2\",\"D2\"]\n",
    "                                        ],\n",
    "                                        [[\"A3\",\"B3\"],\n",
    "                                         [\"C3\",\"D3\"]\n",
    "                                        ]\n",
    "                                       ]\n",
    "                        }"
   ]
  },
  {
   "cell_type": "code",
   "execution_count": 3,
   "id": "c7368bc9",
   "metadata": {},
   "outputs": [
    {
     "name": "stdout",
     "output_type": "stream",
     "text": [
      "2\n",
      "0\n",
      "1\n",
      "[['a2' 'b2']\n",
      " ['c2' 'd2']]\n",
      "[['A2', 'B2'], ['C2', 'D2']]\n"
     ]
    }
   ],
   "source": [
    "# Set an index value to search for the 3rd element in each list\n",
    "index = 2\n",
    "print(machine_learning_dict[\"punk_id\"][index])\n",
    "print(machine_learning_dict[\"type_ML\"][index])\n",
    "print(machine_learning_dict[\"glasses_ML\"][index])\n",
    "print(machine_learning_dict[\"normalized_bitmap\"][index])\n",
    "print(machine_learning_dict[\"image_bitmap\"][index])"
   ]
  },
  {
   "cell_type": "code",
   "execution_count": 4,
   "id": "862f440c",
   "metadata": {},
   "outputs": [
    {
     "data": {
      "text/plain": [
       "{'punk_id': [0, 1, 2, 3, 4],\n",
       " 'type_ML': [0, 1, 0, 2, 1],\n",
       " 'glasses_ML': [0, 0, 1, 0, 0],\n",
       " 'normalized_bitmap': [array([['a0', 'b0'],\n",
       "         ['c0', 'd0']], dtype='<U2'),\n",
       "  array([['a1', 'b1'],\n",
       "         ['c1', 'd1']], dtype='<U2'),\n",
       "  array([['a2', 'b2'],\n",
       "         ['c2', 'd2']], dtype='<U2'),\n",
       "  array([['a3', 'b3'],\n",
       "         ['c3', 'd3']], dtype='<U2'),\n",
       "  array([['a4', 'b4'],\n",
       "         ['c4', 'd4']], dtype='<U2')],\n",
       " 'image_bitmap': [[['A0', 'B0'], ['C0', 'D0']],\n",
       "  [['A1', 'B1'], ['C1', 'D1']],\n",
       "  [['A2', 'B2'], ['C2', 'D2']],\n",
       "  [['A3', 'B3'], ['C3', 'D3']],\n",
       "  [['A4', 'B4'], ['C4', 'D4']]]}"
      ]
     },
     "execution_count": 4,
     "metadata": {},
     "output_type": "execute_result"
    }
   ],
   "source": [
    "# Add a new item to the list\n",
    "index_to_add = 4\n",
    "\n",
    "punk_id = index_to_add\n",
    "type_ = 1\n",
    "glasses_ML = 0\n",
    "normalized_bitmap = np.array([['a4', 'b4'], ['c4', 'd4']])\n",
    "image_bitmap = [['A4', 'B4'], ['C4', 'D4']]\n",
    "\n",
    "machine_learning_dict[\"punk_id\"] += [punk_id]\n",
    "machine_learning_dict[\"type_ML\"] += [type_]\n",
    "machine_learning_dict[\"glasses_ML\"] += [glasses_ML]\n",
    "machine_learning_dict[\"normalized_bitmap\"] += [normalized_bitmap]\n",
    "machine_learning_dict[\"image_bitmap\"] += [image_bitmap]\n",
    "\n",
    "machine_learning_dict"
   ]
  },
  {
   "cell_type": "code",
   "execution_count": 5,
   "id": "67125ccf",
   "metadata": {},
   "outputs": [
    {
     "name": "stdout",
     "output_type": "stream",
     "text": [
      "[array([['a0', 'b0'],\n",
      "       ['c0', 'd0']], dtype='<U2'), array([['a1', 'b1'],\n",
      "       ['c1', 'd1']], dtype='<U2'), array([['a2', 'b2'],\n",
      "       ['c2', 'd2']], dtype='<U2'), array([['a3', 'b3'],\n",
      "       ['c3', 'd3']], dtype='<U2'), array([['a4', 'b4'],\n",
      "       ['c4', 'd4']], dtype='<U2')]\n"
     ]
    }
   ],
   "source": [
    "X_train = machine_learning_dict[\"normalized_bitmap\"]\n",
    "print(X_train)"
   ]
  },
  {
   "cell_type": "code",
   "execution_count": 6,
   "id": "1f013394",
   "metadata": {},
   "outputs": [
    {
     "name": "stdout",
     "output_type": "stream",
     "text": [
      "<class 'list'>\n"
     ]
    }
   ],
   "source": [
    "print(type(X_train))"
   ]
  },
  {
   "cell_type": "code",
   "execution_count": 7,
   "id": "041fe4cb",
   "metadata": {},
   "outputs": [
    {
     "ename": "AttributeError",
     "evalue": "'list' object has no attribute 'shape'",
     "output_type": "error",
     "traceback": [
      "\u001b[0;31m---------------------------------------------------------------------------\u001b[0m",
      "\u001b[0;31mAttributeError\u001b[0m                            Traceback (most recent call last)",
      "\u001b[0;32m/var/folders/lc/bd2hdpn53fnd_gtfy8gt049h0000gn/T/ipykernel_2782/508782007.py\u001b[0m in \u001b[0;36m<module>\u001b[0;34m\u001b[0m\n\u001b[0;32m----> 1\u001b[0;31m \u001b[0mprint\u001b[0m\u001b[0;34m(\u001b[0m\u001b[0mX_train\u001b[0m\u001b[0;34m.\u001b[0m\u001b[0mshape\u001b[0m\u001b[0;34m)\u001b[0m\u001b[0;34m\u001b[0m\u001b[0;34m\u001b[0m\u001b[0m\n\u001b[0m",
      "\u001b[0;31mAttributeError\u001b[0m: 'list' object has no attribute 'shape'"
     ]
    }
   ],
   "source": [
    "print(X_train.shape)"
   ]
  },
  {
   "cell_type": "code",
   "execution_count": null,
   "id": "b4d987a4",
   "metadata": {},
   "outputs": [],
   "source": []
  }
 ],
 "metadata": {
  "kernelspec": {
   "display_name": "Python 3 (ipykernel)",
   "language": "python",
   "name": "python3"
  },
  "language_info": {
   "codemirror_mode": {
    "name": "ipython",
    "version": 3
   },
   "file_extension": ".py",
   "mimetype": "text/x-python",
   "name": "python",
   "nbconvert_exporter": "python",
   "pygments_lexer": "ipython3",
   "version": "3.8.9"
  }
 },
 "nbformat": 4,
 "nbformat_minor": 5
}
