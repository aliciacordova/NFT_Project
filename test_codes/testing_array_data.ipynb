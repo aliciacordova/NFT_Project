{
 "cells": [
  {
   "cell_type": "code",
   "execution_count": 1,
   "id": "ea6b069a",
   "metadata": {},
   "outputs": [],
   "source": [
    "import numpy as np"
   ]
  },
  {
   "cell_type": "markdown",
   "id": "140a8344",
   "metadata": {},
   "source": [
    "## Method 1: Creating a dictionary of lists"
   ]
  },
  {
   "cell_type": "code",
   "execution_count": 2,
   "id": "302c7545",
   "metadata": {},
   "outputs": [],
   "source": [
    "# Create a dictionay containing lists\n",
    "machine_learning_dict = {\"punk_id\":[0,1,2,3],\n",
    "                        \"type_ML\":[0,1,0,2],\n",
    "                        \"glasses_ML\":[0,0,1,0],\n",
    "                        \"normalized_bitmap\":[np.array([[\"a0\",\"b0\"],\n",
    "                                              [\"c0\",\"d0\"]\n",
    "                                             ]),\n",
    "                                             np.array([[\"a1\",\"b1\"],\n",
    "                                              [\"c1\",\"d1\"]\n",
    "                                             ]),\n",
    "                                             np.array([[\"a2\",\"b2\"],\n",
    "                                              [\"c2\",\"d2\"]\n",
    "                                             ]),\n",
    "                                             np.array([[\"a3\",\"b3\"],\n",
    "                                              [\"c3\",\"d3\"]\n",
    "                                             ])\n",
    "                                            ],\n",
    "                        \"image_bitmap\":[[[\"A0\",\"B0\"],\n",
    "                                         [\"C0\",\"D0\"]\n",
    "                                        ],\n",
    "                                        [[\"A1\",\"B1\"],\n",
    "                                         [\"C1\",\"D1\"]\n",
    "                                        ],\n",
    "                                        [[\"A2\",\"B2\"],\n",
    "                                         [\"C2\",\"D2\"]\n",
    "                                        ],\n",
    "                                        [[\"A3\",\"B3\"],\n",
    "                                         [\"C3\",\"D3\"]\n",
    "                                        ]\n",
    "                                       ]\n",
    "                        }"
   ]
  },
  {
   "cell_type": "code",
   "execution_count": 3,
   "id": "f47fd88f",
   "metadata": {},
   "outputs": [
    {
     "name": "stdout",
     "output_type": "stream",
     "text": [
      "2\n",
      "0\n",
      "1\n",
      "[['a2' 'b2']\n",
      " ['c2' 'd2']]\n",
      "[['A2', 'B2'], ['C2', 'D2']]\n"
     ]
    }
   ],
   "source": [
    "# Set an index value to search for the 3rd element in each list\n",
    "index = 2\n",
    "print(machine_learning_dict[\"punk_id\"][index])\n",
    "print(machine_learning_dict[\"type_ML\"][index])\n",
    "print(machine_learning_dict[\"glasses_ML\"][index])\n",
    "print(machine_learning_dict[\"normalized_bitmap\"][index])\n",
    "print(machine_learning_dict[\"image_bitmap\"][index])"
   ]
  },
  {
   "cell_type": "code",
   "execution_count": 4,
   "id": "f8bb0ae1",
   "metadata": {},
   "outputs": [
    {
     "data": {
      "text/plain": [
       "{'punk_id': [0, 1, 2, 3, 4],\n",
       " 'type_ML': [0, 1, 0, 2, 1],\n",
       " 'glasses_ML': [0, 0, 1, 0, 0],\n",
       " 'normalized_bitmap': [array([['a0', 'b0'],\n",
       "         ['c0', 'd0']], dtype='<U2'),\n",
       "  array([['a1', 'b1'],\n",
       "         ['c1', 'd1']], dtype='<U2'),\n",
       "  array([['a2', 'b2'],\n",
       "         ['c2', 'd2']], dtype='<U2'),\n",
       "  array([['a3', 'b3'],\n",
       "         ['c3', 'd3']], dtype='<U2'),\n",
       "  array([['a4', 'b4'],\n",
       "         ['c4', 'd4']], dtype='<U2')],\n",
       " 'image_bitmap': [[['A0', 'B0'], ['C0', 'D0']],\n",
       "  [['A1', 'B1'], ['C1', 'D1']],\n",
       "  [['A2', 'B2'], ['C2', 'D2']],\n",
       "  [['A3', 'B3'], ['C3', 'D3']],\n",
       "  [['A4', 'B4'], ['C4', 'D4']]]}"
      ]
     },
     "execution_count": 4,
     "metadata": {},
     "output_type": "execute_result"
    }
   ],
   "source": [
    "# Add a new item to the list\n",
    "index_to_add = 4\n",
    "\n",
    "punk_id = index_to_add\n",
    "type_ = 1\n",
    "glasses_ML = 0\n",
    "normalized_bitmap = np.array([['a4', 'b4'], ['c4', 'd4']])\n",
    "image_bitmap = [['A4', 'B4'], ['C4', 'D4']]\n",
    "\n",
    "machine_learning_dict[\"punk_id\"] += [punk_id]\n",
    "machine_learning_dict[\"type_ML\"] += [type_]\n",
    "machine_learning_dict[\"glasses_ML\"] += [glasses_ML]\n",
    "machine_learning_dict[\"normalized_bitmap\"] += [normalized_bitmap]\n",
    "machine_learning_dict[\"image_bitmap\"] += [image_bitmap]\n",
    "\n",
    "machine_learning_dict"
   ]
  },
  {
   "cell_type": "code",
   "execution_count": 5,
   "id": "b055d8d6",
   "metadata": {},
   "outputs": [
    {
     "name": "stdout",
     "output_type": "stream",
     "text": [
      "[[['a0' 'b0']\n",
      "  ['c0' 'd0']]\n",
      "\n",
      " [['a1' 'b1']\n",
      "  ['c1' 'd1']]\n",
      "\n",
      " [['a2' 'b2']\n",
      "  ['c2' 'd2']]\n",
      "\n",
      " [['a3' 'b3']\n",
      "  ['c3' 'd3']]\n",
      "\n",
      " [['a4' 'b4']\n",
      "  ['c4' 'd4']]]\n"
     ]
    }
   ],
   "source": [
    "X_train = np.array(machine_learning_dict[\"normalized_bitmap\"])\n",
    "print(X_train)"
   ]
  },
  {
   "cell_type": "code",
   "execution_count": 6,
   "id": "ebffd594",
   "metadata": {},
   "outputs": [
    {
     "name": "stdout",
     "output_type": "stream",
     "text": [
      "<class 'numpy.ndarray'>\n"
     ]
    }
   ],
   "source": [
    "print(type(X_train))"
   ]
  },
  {
   "cell_type": "code",
   "execution_count": 7,
   "id": "65682b80",
   "metadata": {},
   "outputs": [
    {
     "name": "stdout",
     "output_type": "stream",
     "text": [
      "(5, 2, 2)\n"
     ]
    }
   ],
   "source": [
    "print(X_train.shape)"
   ]
  },
  {
   "cell_type": "markdown",
   "id": "180a5e28",
   "metadata": {},
   "source": [
    "## Method 2: Creating a list of dictionaries"
   ]
  },
  {
   "cell_type": "code",
   "execution_count": 8,
   "id": "4edd3ef9",
   "metadata": {},
   "outputs": [],
   "source": [
    "# Create a dictionay containing lists\n",
    "test_list = [{\"punk_id\":0,\"type_ML\":0,\"glasses_ML\":0,\"image_bitmap\":[[\"A0\",\"B0\"],[\"C0\",\"D0\"]]},\n",
    "             {\"punk_id\":1,\"type_ML\":1,\"glasses_ML\":0,\"image_bitmap\":[[\"A1\",\"B1\"],[\"C1\",\"D1\"]]},\n",
    "             {\"punk_id\":2,\"type_ML\":0,\"glasses_ML\":1,\"image_bitmap\":[[\"A2\",\"B2\"],[\"C2\",\"D2\"]]},\n",
    "             {\"punk_id\":3,\"type_ML\":2,\"glasses_ML\":0,\"image_bitmap\":[[\"A3\",\"B3\"],[\"C3\",\"D3\"]]}\n",
    "            ]"
   ]
  },
  {
   "cell_type": "code",
   "execution_count": 9,
   "id": "fdcf5735",
   "metadata": {},
   "outputs": [
    {
     "name": "stdout",
     "output_type": "stream",
     "text": [
      "2\n",
      "0\n",
      "1\n",
      "[['A2', 'B2'], ['C2', 'D2']]\n"
     ]
    }
   ],
   "source": [
    "# Set an index value to search for the 3rd element in each list\n",
    "index = 2\n",
    "print(test_list[index][\"punk_id\"])\n",
    "print(test_list[index][\"type_ML\"])\n",
    "print(test_list[index][\"glasses_ML\"])\n",
    "print(test_list[index][\"image_bitmap\"])"
   ]
  },
  {
   "cell_type": "code",
   "execution_count": 10,
   "id": "33d32340",
   "metadata": {},
   "outputs": [
    {
     "data": {
      "text/plain": [
       "[{'punk_id': 0,\n",
       "  'type_ML': 0,\n",
       "  'glasses_ML': 0,\n",
       "  'image_bitmap': [['A0', 'B0'], ['C0', 'D0']]},\n",
       " {'punk_id': 1,\n",
       "  'type_ML': 1,\n",
       "  'glasses_ML': 0,\n",
       "  'image_bitmap': [['A1', 'B1'], ['C1', 'D1']]},\n",
       " {'punk_id': 2,\n",
       "  'type_ML': 0,\n",
       "  'glasses_ML': 1,\n",
       "  'image_bitmap': [['A2', 'B2'], ['C2', 'D2']]},\n",
       " {'punk_id': 3,\n",
       "  'type_ML': 2,\n",
       "  'glasses_ML': 0,\n",
       "  'image_bitmap': [['A3', 'B3'], ['C3', 'D3']]},\n",
       " {'punk_id': 4,\n",
       "  'type_ML': 1,\n",
       "  'glasses_ML': 0,\n",
       "  'image_bitmap': [['A4', 'B4'], ['C4', 'D4']]}]"
      ]
     },
     "execution_count": 10,
     "metadata": {},
     "output_type": "execute_result"
    }
   ],
   "source": [
    "# Add a new item to the list\n",
    "\n",
    "punk_id = 4\n",
    "type_ = 1\n",
    "glasses_ML = 0\n",
    "image_bitmap = [['A4', 'B4'], ['C4', 'D4']]\n",
    "\n",
    "test_list.append({\"punk_id\": punk_id,\"type_ML\": type_, \"glasses_ML\": glasses_ML,\"image_bitmap\": image_bitmap})\n",
    "\n",
    "test_list"
   ]
  },
  {
   "cell_type": "code",
   "execution_count": 11,
   "id": "ddcd9a7e",
   "metadata": {},
   "outputs": [
    {
     "data": {
      "text/plain": [
       "[[['A0', 'B0'], ['C0', 'D0']],\n",
       " [['A1', 'B1'], ['C1', 'D1']],\n",
       " [['A2', 'B2'], ['C2', 'D2']],\n",
       " [['A3', 'B3'], ['C3', 'D3']]]"
      ]
     },
     "execution_count": 11,
     "metadata": {},
     "output_type": "execute_result"
    }
   ],
   "source": [
    "train_list = []\n",
    "for i in range(4):\n",
    "    train_list.append(test_list[i][\"image_bitmap\"])\n",
    "    \n",
    "train_list"
   ]
  },
  {
   "cell_type": "code",
   "execution_count": 12,
   "id": "a2c3b1e7",
   "metadata": {},
   "outputs": [
    {
     "name": "stdout",
     "output_type": "stream",
     "text": [
      "[[['A0' 'B0']\n",
      "  ['C0' 'D0']]\n",
      "\n",
      " [['A1' 'B1']\n",
      "  ['C1' 'D1']]\n",
      "\n",
      " [['A2' 'B2']\n",
      "  ['C2' 'D2']]\n",
      "\n",
      " [['A3' 'B3']\n",
      "  ['C3' 'D3']]]\n"
     ]
    }
   ],
   "source": [
    "X_train = np.array(train_list)\n",
    "print(X_train)"
   ]
  },
  {
   "cell_type": "code",
   "execution_count": 13,
   "id": "ae1dc4f9",
   "metadata": {},
   "outputs": [
    {
     "name": "stdout",
     "output_type": "stream",
     "text": [
      "<class 'numpy.ndarray'>\n"
     ]
    }
   ],
   "source": [
    "print(type(X_train))"
   ]
  },
  {
   "cell_type": "code",
   "execution_count": 14,
   "id": "a6c2522b",
   "metadata": {},
   "outputs": [
    {
     "name": "stdout",
     "output_type": "stream",
     "text": [
      "(4, 2, 2)\n"
     ]
    }
   ],
   "source": [
    "print(X_train.shape)"
   ]
  }
 ],
 "metadata": {
  "kernelspec": {
   "display_name": "Python 3 (ipykernel)",
   "language": "python",
   "name": "python3"
  },
  "language_info": {
   "codemirror_mode": {
    "name": "ipython",
    "version": 3
   },
   "file_extension": ".py",
   "mimetype": "text/x-python",
   "name": "python",
   "nbconvert_exporter": "python",
   "pygments_lexer": "ipython3",
   "version": "3.9.7"
  }
 },
 "nbformat": 4,
 "nbformat_minor": 5
}
