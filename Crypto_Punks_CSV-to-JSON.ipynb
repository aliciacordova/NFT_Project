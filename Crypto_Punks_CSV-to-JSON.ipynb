{
 "cells": [
  {
   "cell_type": "markdown",
   "id": "99ef476c",
   "metadata": {},
   "source": [
    "## Convert CSV Datafiles to JSON\n",
    "\n",
    "This notebook converts the following csv datafiles to JSON:\n",
    "\n",
    "* tx_history.csv\n",
    "* traders.csv\n",
    "* crypto_punks.csv\n",
    "* categorized_accessories.csv\n",
    "* machine_learning.csv\n",
    "* glasses_classification.csv\n",
    "* glasses_predictions.csv\n",
    "* type_classification.csv\n",
    "* type_predictions.csv\n",
    "* multi-run_classification_statistics.csv\n",
    "\n",
    "The JSON files are stored in a subfolder \"JSON_datafiles\" of the \"Data\" folder."
   ]
  },
  {
   "cell_type": "code",
   "execution_count": 4,
   "id": "106dd648",
   "metadata": {},
   "outputs": [],
   "source": [
    "import pandas as pd"
   ]
  },
  {
   "cell_type": "code",
   "execution_count": 5,
   "id": "eeb989a5",
   "metadata": {},
   "outputs": [],
   "source": [
    "filenames = [\"tx_history\",\n",
    "             \"traders\", \n",
    "             \"crypto_punks\",\n",
    "             \"categorized_accessories\",\n",
    "             \"machine_learning\",\n",
    "             \"glasses_classification\",\n",
    "             \"glasses_predictions\",\n",
    "             \"type_classification\",\n",
    "             \"type_predictions\",\n",
    "             \"multi-run_classification_statistics\"\n",
    "            ]"
   ]
  },
  {
   "cell_type": "code",
   "execution_count": 6,
   "id": "5e512b20",
   "metadata": {},
   "outputs": [],
   "source": [
    "for name in filenames:\n",
    "    file_to_read = \"Data/\"+name+\".csv\"\n",
    "    file_to_save = \"Data/JSON_datafiles/\"+name+\".json\"\n",
    "    df = pd.read_csv(file_to_read)\n",
    "    df.to_json(file_to_save)"
   ]
  },
  {
   "cell_type": "code",
   "execution_count": null,
   "id": "a978cdfd",
   "metadata": {},
   "outputs": [],
   "source": []
  }
 ],
 "metadata": {
  "kernelspec": {
   "display_name": "Python 3",
   "language": "python",
   "name": "python3"
  },
  "language_info": {
   "codemirror_mode": {
    "name": "ipython",
    "version": 3
   },
   "file_extension": ".py",
   "mimetype": "text/x-python",
   "name": "python",
   "nbconvert_exporter": "python",
   "pygments_lexer": "ipython3",
   "version": "3.8.8"
  }
 },
 "nbformat": 4,
 "nbformat_minor": 5
}
