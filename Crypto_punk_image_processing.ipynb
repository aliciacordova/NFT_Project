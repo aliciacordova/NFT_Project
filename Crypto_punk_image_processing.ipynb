{
 "cells": [
  {
   "cell_type": "code",
   "execution_count": 1,
   "id": "681e12b3",
   "metadata": {},
   "outputs": [],
   "source": [
    "# Import dependencies. First, pip install the Pillow image processing library for Python \n",
    "# by running the following pip install command in terminal (both Mac OS or Windows):\n",
    "#\n",
    "# python3 -m pip install --upgrade pip\n",
    "# python3 -m pip install --upgrade Pillow\n",
    "#\n",
    "# Documentation: https://pillow.readthedocs.io/en/latest/installation.html\n",
    "# Other usefull learning resources: https://pythonprogramming.net/python-pixel-arrays/\n",
    "#                                   https://www.youtube.com/watch?v=iGWbqhdjf2s\n",
    "\n",
    "\n",
    "# Import dependencies\n",
    "from PIL import Image\n",
    "import numpy as np\n",
    "import matplotlib.pyplot as plt "
   ]
  },
  {
   "cell_type": "code",
   "execution_count": 2,
   "id": "e8e1cefa",
   "metadata": {},
   "outputs": [
    {
     "name": "stdout",
     "output_type": "stream",
     "text": [
      "[[[0 0 0 0]\n",
      "  [0 0 0 0]\n",
      "  [0 0 0 0]\n",
      "  ...\n",
      "  [0 0 0 0]\n",
      "  [0 0 0 0]\n",
      "  [0 0 0 0]]\n",
      "\n",
      " [[0 0 0 0]\n",
      "  [0 0 0 0]\n",
      "  [0 0 0 0]\n",
      "  ...\n",
      "  [0 0 0 0]\n",
      "  [0 0 0 0]\n",
      "  [0 0 0 0]]\n",
      "\n",
      " [[0 0 0 0]\n",
      "  [0 0 0 0]\n",
      "  [0 0 0 0]\n",
      "  ...\n",
      "  [0 0 0 0]\n",
      "  [0 0 0 0]\n",
      "  [0 0 0 0]]\n",
      "\n",
      " ...\n",
      "\n",
      " [[0 0 0 0]\n",
      "  [0 0 0 0]\n",
      "  [0 0 0 0]\n",
      "  ...\n",
      "  [0 0 0 0]\n",
      "  [0 0 0 0]\n",
      "  [0 0 0 0]]\n",
      "\n",
      " [[0 0 0 0]\n",
      "  [0 0 0 0]\n",
      "  [0 0 0 0]\n",
      "  ...\n",
      "  [0 0 0 0]\n",
      "  [0 0 0 0]\n",
      "  [0 0 0 0]]\n",
      "\n",
      " [[0 0 0 0]\n",
      "  [0 0 0 0]\n",
      "  [0 0 0 0]\n",
      "  ...\n",
      "  [0 0 0 0]\n",
      "  [0 0 0 0]\n",
      "  [0 0 0 0]]]\n"
     ]
    }
   ],
   "source": [
    "# All 10,000 Cyber punk images have been saved in a folder called \"images\" under their punk_id\n",
    "# These are 24 x 24 bit image size.\n",
    "\n",
    "# The images were downloaded from:   https://www.kaggle.com/tunguz/cryptopunks?select=imgs\n",
    "\n",
    "\n",
    "# Read the RGB image for one of the punk_ids (in this case, ID number 7178) and convert the individual\n",
    "# pixel values to an array\n",
    "i = Image.open('data/imgs/7178.png')\n",
    "punk_img_rgb_map = np.asarray(i)\n",
    "print(punk_img_rgb_map)"
   ]
  },
  {
   "cell_type": "code",
   "execution_count": 3,
   "id": "55603940",
   "metadata": {},
   "outputs": [
    {
     "data": {
      "text/plain": [
       "(24, 24, 4)"
      ]
     },
     "execution_count": 3,
     "metadata": {},
     "output_type": "execute_result"
    }
   ],
   "source": [
    "# Inspect the shape of the array to verify its dimensions are correct for a 24 x 24 pixel image and 4 rgb \n",
    "# color parameters for each pixel.\n",
    "punk_img_rgb_map.shape"
   ]
  },
  {
   "cell_type": "code",
   "execution_count": 4,
   "id": "a1f7d931",
   "metadata": {},
   "outputs": [
    {
     "data": {
      "image/png": "[encoded data removed]",
      "text/plain": [
       "<Figure size 432x288 with 1 Axes>"
      ]
     },
     "metadata": {
      "needs_background": "light"
     },
     "output_type": "display_data"
    }
   ],
   "source": [
    "# Print the image from the rgb map\n",
    "img = plt.imshow(punk_img_rgb_map)"
   ]
  },
  {
   "cell_type": "markdown",
   "id": "8c4326cd",
   "metadata": {},
   "source": [
    "Hacer una tabla\n",
    "columna 1 punk_id\n",
    "columna 2 type \n",
    "columna 2a type con numero\n",
    "columna 3 accesories (list)\n",
    "\n",
    "Hacer un loop que lea el Punk_id y busque la imagen del punk_id en el folder donde estan las imagenes (aqui se concatena el texto con la imagen para creat el path a la ubicacion en el folder)\n",
    "\n",
    "Leer la imagen, convertirla en un array (punk_img_rgb_map = np.asarray(i))  y guardar el array en una columna nueva \n"
   ]
  }
 ],
 "metadata": {
  "kernelspec": {
   "display_name": "Python 3",
   "language": "python",
   "name": "python3"
  },
  "language_info": {
   "codemirror_mode": {
    "name": "ipython",
    "version": 3
   },
   "file_extension": ".py",
   "mimetype": "text/x-python",
   "name": "python",
   "nbconvert_exporter": "python",
   "pygments_lexer": "ipython3",
   "version": "3.8.8"
  }
 },
 "nbformat": 4,
 "nbformat_minor": 5
}
